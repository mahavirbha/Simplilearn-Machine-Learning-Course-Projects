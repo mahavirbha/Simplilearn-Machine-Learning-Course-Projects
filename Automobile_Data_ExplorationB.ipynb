{
  "nbformat": 4,
  "nbformat_minor": 0,
  "metadata": {
    "colab": {
      "name": "Automobile_Data_ExplorationB.ipynb",
      "provenance": [],
      "mount_file_id": "1PKQenT2ISy2ickHQej4A7QOVLpMy8Ier",
      "authorship_tag": "ABX9TyM+raCFCerL27mtD4UCnShI",
      "include_colab_link": true
    },
    "kernelspec": {
      "name": "python3",
      "display_name": "Python 3"
    },
    "language_info": {
      "name": "python"
    }
  },
  "cells": [
    {
      "cell_type": "markdown",
      "metadata": {
        "id": "view-in-github",
        "colab_type": "text"
      },
      "source": [
        "<a href=\"https://colab.research.google.com/github/mahavirbha/Simplilearn-Machine-Learning-Course-Projects/blob/main/Automobile_Data_ExplorationB.ipynb\" target=\"_parent\"><img src=\"https://colab.research.google.com/assets/colab-badge.svg\" alt=\"Open In Colab\"/></a>"
      ]
    },
    {
      "cell_type": "markdown",
      "metadata": {
        "id": "1hdCoclzmFRv"
      },
      "source": [
        "# **Automobile Data Exploration II**\n",
        "**DESCRIPTION**\n",
        "\n",
        "Mtcars, the automobile company in the United States, has planned to rework on optimizing the horsepower of its cars as most of the customers’ feedback was centred around horsepower. However, while developing an ML model with respect to horsepower, the efficiency of the model was compromised. Irregularity might be one of the causes.\n",
        "\n",
        "\n",
        "**Objective:**\n",
        "\n",
        "Check for missing values and outliers within the horsepower column and remove them."
      ]
    },
    {
      "cell_type": "code",
      "metadata": {
        "id": "joOWn0SGl87q"
      },
      "source": [
        "import pandas as pd"
      ],
      "execution_count": 1,
      "outputs": []
    },
    {
      "cell_type": "code",
      "metadata": {
        "id": "L4Yj-9sJpIlH"
      },
      "source": [
        "df = pd.read_csv(\"/content/drive/MyDrive/Simplilearn_ML_CertificationCourse/Lesson 3 Practice/mtcars.csv\")"
      ],
      "execution_count": 2,
      "outputs": []
    },
    {
      "cell_type": "code",
      "metadata": {
        "colab": {
          "base_uri": "https://localhost:8080/",
          "height": 0
        },
        "id": "ZJIdv0OCpRft",
        "outputId": "b47d24a4-c163-481f-afc7-037d146e82e7"
      },
      "source": [
        "df.isnull().sum()"
      ],
      "execution_count": 9,
      "outputs": [
        {
          "output_type": "execute_result",
          "data": {
            "text/plain": [
              "model    0\n",
              "mpg      0\n",
              "cyl      0\n",
              "disp     0\n",
              "hp       0\n",
              "drat     0\n",
              "wt       0\n",
              "qsec     0\n",
              "vs       0\n",
              "am       0\n",
              "gear     0\n",
              "carb     0\n",
              "dtype: int64"
            ]
          },
          "metadata": {
            "tags": []
          },
          "execution_count": 9
        }
      ]
    },
    {
      "cell_type": "markdown",
      "metadata": {
        "id": "UnilNSpPqKVM"
      },
      "source": [
        "***There's no missing values in given dataset***"
      ]
    }
  ]
}